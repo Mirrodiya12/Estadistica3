{
 "cells": [
  {
   "cell_type": "code",
   "execution_count": null,
   "id": "d392e096-d8c2-4fa3-9122-fa1f1245d546",
   "metadata": {},
   "outputs": [],
   "source": [
    "import math\n",
    "from collections import Counter\n",
    "import plotly.graph_objects as go"
   ]
  },
  {
   "cell_type": "code",
   "execution_count": null,
   "id": "2d7d6ee4-c645-4568-885f-4f674c2e836d",
   "metadata": {},
   "outputs": [],
   "source": [
    "ciudades = [\n",
    "    [\"City\", \"GDP (USD Billion)\", \"Population (Millions)\", \"Unemployment Rate (%)\", \"Average Age\", \"Women (%)\", \"Men (%)\", \"Budget (USD Billion)\"],\n",
    "    [\"Bogotá\", 103.5, 7.18, 10.5, 32, 52, 48, 18],\n",
    "    [\"Medellín\", 44.1, 2.57, 11.2, 31, 53, 47, 7.5],\n",
    "    [\"Cali\", 22.4, 2.23, 13.8, 30, 52, 48, 4.2],\n",
    "    [\"Barranquilla\", 16.8, 1.23, 12.4, 29, 51, 49, 3.1],\n",
    "    [\"Cartagena\", 10.5, 1.03, 10.9, 30, 51, 49, 2.8],\n",
    "    [\"Bucaramanga (test)\", 7.3, 0.58, 9.2, 33, 52, 48, 1.5],\n",
    "    [\"Pereira\", 6.2, 0.48, 12, 32, 52, 48, 1.3],\n",
    "    [\"Cúcuta (test)\", 5.1, 0.76, 16.3, 28, 51, 49, 1.2],\n",
    "    [\"Ibagué (test)\", 4.8, 0.53, 13.4, 31, 52, 48, 1.1],\n",
    "    [\"Santa Marta\", 4, 0.52, 11.6, 29, 51, 49, 0.9],\n",
    "    [\"Manizales\", 3.8, 0.43, 10.7, 32, 53, 47, 0.8],\n",
    "    [\"Villavicencio\", 3.5, 0.5, 13, 30, 51, 49, 0.8],\n",
    "    [\"Pasto\", 3.2, 0.45, 12.9, 31, 52, 48, 0.7],\n",
    "    [\"Montería\", 3, 0.49, 13.5, 29, 51, 49, 0.7],\n",
    "    [\"Valledupar\", 2.8, 0.47, 14.8, 28, 51, 49, 0.6],\n",
    "    [\"Neiva\", 2.5, 0.35, 14.1, 30, 52, 48, 0.6],\n",
    "    [\"Popayán\", 2.3, 0.33, 15.2, 31, 52, 48, 0.5],\n",
    "    [\"Armenia\", 2.1, 0.3, 13.3, 32, 53, 47, 0.5],\n",
    "    [\"Sincelejo\", 2, 0.28, 16.5, 29, 51, 49, 0.5],\n",
    "    [\"Tunja\", 1.8, 0.25, 10, 31, 52, 48, 0.4],\n",
    "    [\"Florencia\", 1.7, 0.2, 17.5, 28, 51, 49, 0.4],\n",
    "    [\"Riohacha\", 1.5, 0.22, 15.7, 27, 51, 49, 0.3],\n",
    "    [\"Quibdó\", 1.3, 0.13, 18.2, 26, 52, 48, 0.3],\n",
    "    [\"San Andrés\", 1.2, 0.08, 14, 27, 50, 50, 0.2],\n",
    "    [\"Yopal\", 1.1, 0.15, 11.5, 29, 51, 49, 0.2],\n",
    "    [\"Leticia\", 1, 0.05, 13.6, 26, 51, 49, 0.1],\n",
    "    [\"Arauca (test)\", 0.9, 0.08, 12.2, 29, 51, 49, 0.1],\n",
    "    [\"Mocoa (test)\", 0.8, 0.04, 15, 28, 52, 48, 0.1],\n",
    "    [\"Mitú\", 0.7, 0.01, 20, 25, 51, 49, 0.05],\n",
    "    [\"Puerto Carreño (test)\", 0.6, 0.01, 22, 24, 50, 50, 0.05]\n",
    "]"
   ]
  },
  {
   "cell_type": "code",
   "execution_count": null,
   "id": "75c3ab0a-642d-4fc1-a4e0-64f70b2d5425",
   "metadata": {},
   "outputs": [],
   "source": [
    "def media(datos):\n",
    "    return sum(datos) / len(datos)"
   ]
  },
  {
   "cell_type": "code",
   "execution_count": null,
   "id": "21c322a3-1318-4552-a665-2cc6305776b0",
   "metadata": {},
   "outputs": [],
   "source": [
    "def mediana(datos):\n",
    "    datos_ordenados = sorted(datos)\n",
    "    n = len(datos_ordenados)\n",
    "    mitad = n // 2\n",
    "    if n % 2 == 0:\n",
    "        return (datos_ordenados[mitad - 1] + datos_ordenados[mitad]) / 2\n",
    "    else:\n",
    "        return datos_ordenados[mitad]"
   ]
  },
  {
   "cell_type": "code",
   "execution_count": null,
   "id": "d75b1fd4-a0b5-400d-8c4e-2b764eea33ac",
   "metadata": {},
   "outputs": [],
   "source": [
    "def desviacion_estandar(datos):\n",
    "    media_valor = media(datos)\n",
    "    varianza = sum((x - media_valor) ** 2 for x in datos) / len(datos)\n",
    "    return math.sqrt(varianza)"
   ]
  },
  {
   "cell_type": "code",
   "execution_count": null,
   "id": "83864f7d-59d8-4c88-a2fc-c4bfc5ebbb16",
   "metadata": {},
   "outputs": [],
   "source": [
    "def moda(datos):\n",
    "    frecuencia = Counter(datos)\n",
    "    max_freq = max(frecuencia.values())\n",
    "    return [item for item, freq in frecuencia.items() if freq == max_freq], max_freq"
   ]
  },
  {
   "cell_type": "code",
   "execution_count": null,
   "id": "0b4a6b16-adea-43e9-9d47-36b09166d0bc",
   "metadata": {},
   "outputs": [],
   "source": [
    "def covarianza(X1, X2):\n",
    "    n = len(X1)\n",
    "    if n != len(X2):\n",
    "        raise ValueError(\"Las dos listas deben tener la misma longitud\")\n",
    "\n",
    "    media_X1 = media(X1)\n",
    "    media_X2 = media(X2)\n",
    "\n",
    "    cov = sum((X1[i] - media_X1) * (X2[i] - media_X2) for i in range(n)) / (n - 1)\n",
    "    return cov"
   ]
  },
  {
   "cell_type": "code",
   "execution_count": null,
   "id": "27380291-39d6-4bea-9f48-59edeb2e60af",
   "metadata": {},
   "outputs": [],
   "source": [
    "# Extraer datos numéricos\n",
    "pib = [fila[1] for fila in ciudades[1:]]\n",
    "poblacion = [fila[2] for fila in ciudades[1:]]\n",
    "tasa_desempleo = [fila[3] for fila in ciudades[1:]]\n",
    "edad_promedio = [fila[4] for fila in ciudades[1:]]\n",
    "porcentaje_mujeres = [fila[5] for fila in ciudades[1:]]\n",
    "porcentaje_hombres = [fila[6] for fila in ciudades[1:]]\n",
    "presupuesto = [fila[7] for fila in ciudades[1:]]"
   ]
  },
  {
   "cell_type": "code",
   "execution_count": null,
   "id": "8ea2d1f0-aeaf-4f63-96fb-2a3867744f38",
   "metadata": {},
   "outputs": [],
   "source": [
    "# Cálculos para cada conjunto de datos\n",
    "conjuntos_datos = {\n",
    "    \"GDP (USD Billion)\": pib,\n",
    "    \"Population (Millions)\": poblacion,\n",
    "    \"Unemployment Rate (%)\": tasa_desempleo,\n",
    "    \"Average Age\": edad_promedio,\n",
    "    \"Women (%)\": porcentaje_mujeres,\n",
    "    \"Men (%)\": porcentaje_hombres,\n",
    "    \"Budget (USD Billion)\": presupuesto\n",
    "}"
   ]
  },
  {
   "cell_type": "code",
   "execution_count": null,
   "id": "bf129b46-8eae-4589-9ef8-c8acf2ef6a91",
   "metadata": {},
   "outputs": [],
   "source": [
    "resultados = {}\n",
    "for nombre, datos in conjuntos_datos.items():\n",
    "    resultados[nombre] = {\n",
    "        \"Media\": media(datos),\n",
    "        \"Mediana\": mediana(datos),\n",
    "        \"Desviación Estándar\": desviacion_estandar(datos),\n",
    "        \"Moda\": moda(datos)\n",
    "    }"
   ]
  },
  {
   "cell_type": "code",
   "execution_count": null,
   "id": "f6dda76b-e349-426b-8c23-e992ff0331ec",
   "metadata": {},
   "outputs": [],
   "source": [
    "# Mostrar resultados\n",
    "for nombre, estadisticas in resultados.items():\n",
    "    print(f\"{nombre}:\")\n",
    "    print(f\"  Media: {estadisticas['Media']:.2f}\")\n",
    "    print(f\"  Mediana: {estadisticas['Mediana']:.2f}\")\n",
    "    print(f\"  Desviación Estándar: {estadisticas['Desviación Estándar']:.2f}\")\n",
    "    moda_valores, moda_freq = estadisticas['Moda']\n",
    "    print(f\"  Moda: {moda_valores} con {moda_freq} ocurrencias\")\n",
    "    print()"
   ]
  },
  {
   "cell_type": "code",
   "execution_count": null,
   "id": "789eb0f7-aaa5-423f-b90d-13d36bbe4cd4",
   "metadata": {},
   "outputs": [],
   "source": [
    "# Crear el boxplot con plotly\n",
    "fig = go.Figure()"
   ]
  },
  {
   "cell_type": "code",
   "execution_count": null,
   "id": "571534d0-d3bb-483c-aa39-afcc07dbbd2e",
   "metadata": {},
   "outputs": [],
   "source": [
    "# Añadir cada conjunto de datos al boxplot\n",
    "fig.add_trace(go.Box(y=pib, name='PIB'))\n",
    "fig.add_trace(go.Box(y=poblacion, name='Población'))\n",
    "fig.add_trace(go.Box(y=tasa_desempleo, name='Tasa de Desempleo'))\n",
    "fig.add_trace(go.Box(y=edad_promedio, name='Edad Promedio'))\n",
    "fig.add_trace(go.Box(y=porcentaje_mujeres, name='Porcentaje de Mujeres'))\n",
    "fig.add_trace(go.Box(y=porcentaje_hombres, name='Porcentaje de Hombres'))\n",
    "fig.add_trace(go.Box(y=presupuesto, name='Presupuesto'))\n"
   ]
  },
  {
   "cell_type": "code",
   "execution_count": null,
   "id": "d43cd5e3-4ba1-47a0-8cce-f2b9d59df914",
   "metadata": {},
   "outputs": [],
   "source": [
    "# Actualizar el diseño del gráfico\n",
    "fig.update_layout(\n",
    "    title=\"Boxplot de Datos de Ciudades\",\n",
    "    xaxis_title=\"Categorías\",\n",
    "    yaxis_title=\"Valores\",\n",
    "    boxmode=\"group\"  # Agrupa las cajas por categoría\n",
    ")\n",
    "\n",
    "# Mostrar el gráfico\n",
    "fig.show()"
   ]
  },
  {
   "cell_type": "code",
   "execution_count": null,
   "id": "eda720fb-8fcf-4266-9e7a-ebe25f808352",
   "metadata": {},
   "outputs": [],
   "source": [
    "# Datos numéricos\n",
    "pib = [fila[1] for fila in ciudades[1:]]\n",
    "poblacion = [fila[2] for fila in ciudades[1:]]\n",
    "\n",
    "# Calcular covarianza\n",
    "cov_pib_poblacion = covarianza(pib, poblacion)\n",
    "\n",
    "# Calcular desviación estándar\n",
    "desv_std_pib = desviacion_estandar(pib)\n",
    "desv_std_poblacion = desviacion_estandar(poblacion)\n",
    "\n",
    "# Calcular correlación\n",
    "correlacion_pib_poblacion = cov_pib_poblacion / (desv_std_pib * desv_std_poblacion)"
   ]
  },
  {
   "cell_type": "code",
   "execution_count": null,
   "id": "b409a173-2645-482f-86ab-ae18ed73d6dd",
   "metadata": {},
   "outputs": [],
   "source": [
    "# Imprimir resultados de covarianza y correlación\n",
    "print(f\"Covarianza entre PIB y Población: {cov_pib_poblacion:.2f}\")\n",
    "print(f\"Desviación Estándar PIB: {desv_std_pib:.2f}\")\n",
    "print(f\"Desviación Estándar Población: {desv_std_poblacion:.2f}\")\n",
    "print(f\"Correlación entre PIB y Población: {correlacion_pib_poblacion:.2f}\")"
   ]
  },
  {
   "cell_type": "code",
   "execution_count": null,
   "id": "8277a5d8-fd51-4a07-a8e3-c41708d74afa",
   "metadata": {},
   "outputs": [],
   "source": [
    "# Explicación de la relación entre covarianza y correlación\n",
    "print(\"\\nExplicación sobre la relación entre covarianza y correlación:\")\n",
    "print(\"La covarianza y la correlación miden la relación entre dos variables.\")\n",
    "print(\"La covarianza indica la dirección de la relación (positiva o negativa), pero su magnitud depende de las unidades de las variables.\")\n",
    "print(\"La correlación, en cambio, estandariza esta medida dividiendo la covarianza por el producto de las desviaciones estándar de las variables.\")\n",
    "print(\"Esto transforma la covarianza en una medida de relación que está en el rango de -1 a 1, facilitando la interpretación y comparaciones.\")\n",
    "print(\"Un valor de correlación cercano a 1 o -1 indica una fuerte relación lineal positiva o negativa, respectivamente, mientras que un valor cercano a 0 indica poca o ninguna relación lineal.\")"
   ]
  }
 ],
 "metadata": {
  "kernelspec": {
   "display_name": "Python 3 (ipykernel)",
   "language": "python",
   "name": "python3"
  },
  "language_info": {
   "codemirror_mode": {
    "name": "ipython",
    "version": 3
   },
   "file_extension": ".py",
   "mimetype": "text/x-python",
   "name": "python",
   "nbconvert_exporter": "python",
   "pygments_lexer": "ipython3",
   "version": "3.12.5"
  }
 },
 "nbformat": 4,
 "nbformat_minor": 5
}
