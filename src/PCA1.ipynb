{
 "cells": [
  {
   "cell_type": "code",
   "execution_count": null,
   "id": "37382a16-0f54-41ef-8515-5174746f0b19",
   "metadata": {},
   "outputs": [],
   "source": [
    "import numpy as np\n",
    "import pandas as pd\n",
    "import matplotlib.pyplot as plt\n",
    "from sklearn.decomposition import PCA\n",
    "from sklearn.preprocessing import StandardScaler"
   ]
  },
  {
   "cell_type": "code",
   "execution_count": null,
   "id": "2e5404df-d912-46fa-a9b0-1b05109b3f20",
   "metadata": {},
   "outputs": [],
   "source": [
    "# Datos completos de la tabla\n",
    "ciudades = [\n",
    "    [\"City\", \"GDP (USD Billion)\", \"Population (Millions)\", \"Unemployment Rate (%)\", \"Average Age\", \"Women (%)\", \"Men (%)\", \"Budget (USD Billion)\"],\n",
    "    [\"Bogotá\", 103.5, 7.18, 10.5, 32, 52, 48, 18],\n",
    "    [\"Medellín\", 44.1, 2.57, 11.2, 31, 53, 47, 7.5],\n",
    "    [\"Cali\", 22.4, 2.23, 13.8, 30, 52, 48, 4.2],\n",
    "    [\"Barranquilla\", 16.8, 1.23, 12.4, 29, 51, 49, 3.1],\n",
    "    [\"Cartagena\", 10.5, 1.03, 10.9, 30, 51, 49, 2.8],\n",
    "    [\"Bucaramanga (test)\", 7.3, 0.58, 9.2, 33, 52, 48, 1.5],\n",
    "    [\"Pereira\", 6.2, 0.48, 12, 32, 52, 48, 1.3],\n",
    "    [\"Cúcuta (test)\", 5.1, 0.76, 16.3, 28, 51, 49, 1.2],\n",
    "    [\"Ibagué (test)\", 4.8, 0.53, 13.4, 31, 52, 48, 1.1],\n",
    "    [\"Santa Marta\", 4, 0.52, 11.6, 29, 51, 49, 0.9],\n",
    "    [\"Manizales\", 3.8, 0.43, 10.7, 32, 53, 47, 0.8],\n",
    "    [\"Villavicencio\", 3.5, 0.5, 13, 30, 51, 49, 0.8],\n",
    "    [\"Pasto\", 3.2, 0.45, 12.9, 31, 52, 48, 0.7],\n",
    "    [\"Montería\", 3, 0.49, 13.5, 29, 51, 49, 0.7],\n",
    "    [\"Valledupar\", 2.8, 0.47, 14.8, 28, 51, 49, 0.6],\n",
    "    [\"Neiva\", 2.5, 0.35, 14.1, 30, 52, 48, 0.6],\n",
    "    [\"Popayán\", 2.3, 0.33, 15.2, 31, 52, 48, 0.5],\n",
    "    [\"Armenia\", 2.1, 0.3, 13.3, 32, 53, 47, 0.5],\n",
    "    [\"Sincelejo\", 2, 0.28, 16.5, 29, 51, 49, 0.5],\n",
    "    [\"Tunja\", 1.8, 0.25, 10, 31, 52, 48, 0.4],\n",
    "    [\"Florencia\", 1.7, 0.2, 17.5, 28, 51, 49, 0.4],\n",
    "    [\"Riohacha\", 1.5, 0.22, 15.7, 27, 51, 49, 0.3],\n",
    "    [\"Quibdó\", 1.3, 0.13, 18.2, 26, 52, 48, 0.3],\n",
    "    [\"San Andrés\", 1.2, 0.08, 14, 27, 50, 50, 0.2],\n",
    "    [\"Yopal\", 1.1, 0.15, 11.5, 29, 51, 49, 0.2],\n",
    "    [\"Leticia\", 1, 0.05, 13.6, 26, 51, 49, 0.1],\n",
    "    [\"Arauca (test)\", 0.9, 0.08, 12.2, 29, 51, 49, 0.1],\n",
    "    [\"Mocoa (test)\", 0.8, 0.04, 15, 28, 52, 48, 0.1],\n",
    "    [\"Mitú\", 0.7, 0.01, 20, 25, 51, 49, 0.05],\n",
    "    [\"Puerto Carreño (test)\", 0.6, 0.01, 22, 24, 50, 50, 0.05]\n",
    "]"
   ]
  },
  {
   "cell_type": "code",
   "execution_count": null,
   "id": "75f81112-afe0-4305-bddb-7c0db6aef0ef",
   "metadata": {},
   "outputs": [],
   "source": [
    "# Extraer los datos necesarios\n",
    "data = {\n",
    "    \"City\": [row[0] for row in ciudades[1:]],\n",
    "    \"GDP (USD Billion)\": [row[1] for row in ciudades[1:]],\n",
    "    \"Population (Millions)\": [row[2] for row in ciudades[1:]]\n",
    "}"
   ]
  },
  {
   "cell_type": "code",
   "execution_count": null,
   "id": "e91c1501-d1b6-4202-b763-48f4f1ec01d5",
   "metadata": {},
   "outputs": [],
   "source": [
    "# Crear DataFrame\n",
    "df = pd.DataFrame(data)"
   ]
  },
  {
   "cell_type": "code",
   "execution_count": null,
   "id": "c5b74bef-eeca-4c94-967b-002587d634c5",
   "metadata": {},
   "outputs": [],
   "source": [
    "# Seleccionar las columnas para PCA\n",
    "X = df[[\"GDP (USD Billion)\", \"Population (Millions)\"]]"
   ]
  },
  {
   "cell_type": "code",
   "execution_count": null,
   "id": "d6aa2326-6c8c-47bd-9800-3b0b505316d7",
   "metadata": {},
   "outputs": [],
   "source": [
    "# Estandarizar los datos\n",
    "scaler = StandardScaler()\n",
    "X_scaled = scaler.fit_transform(X)"
   ]
  },
  {
   "cell_type": "code",
   "execution_count": null,
   "id": "ae5990b1-2525-4ee6-b59f-e550d3cef24b",
   "metadata": {},
   "outputs": [],
   "source": [
    "# Aplicar PCA\n",
    "pca = PCA(n_components=1)\n",
    "X_pca = pca.fit_transform(X_scaled)"
   ]
  },
  {
   "cell_type": "code",
   "execution_count": null,
   "id": "dc557e3e-c367-4053-ad6c-d98cdea4a6b4",
   "metadata": {},
   "outputs": [],
   "source": [
    "# Matriz de covarianza\n",
    "cov_matrix = np.cov(X_scaled.T)"
   ]
  },
  {
   "cell_type": "code",
   "execution_count": null,
   "id": "1f599187-8099-4d90-acbd-1a5e517174dd",
   "metadata": {},
   "outputs": [],
   "source": [
    "# Eigenvalues y eigenvectors\n",
    "eigenvalues = pca.explained_variance_\n",
    "eigenvectors = pca.components_"
   ]
  },
  {
   "cell_type": "code",
   "execution_count": null,
   "id": "33feb5f7-209e-469e-adb5-1ca07abe37a0",
   "metadata": {},
   "outputs": [],
   "source": [
    "# Varianza explicada por el eigenvalue\n",
    "explained_variance_ratio = pca.explained_variance_ratio_"
   ]
  },
  {
   "cell_type": "code",
   "execution_count": null,
   "id": "611d6eb4-47ac-4c3a-a86d-bebd679212db",
   "metadata": {},
   "outputs": [],
   "source": [
    "# Matriz proyectada\n",
    "X_projected = X_pca"
   ]
  },
  {
   "cell_type": "code",
   "execution_count": null,
   "id": "5ea92862-3c3c-41e7-9827-c7f565fd74eb",
   "metadata": {},
   "outputs": [],
   "source": [
    "# Error o diferencia entre la matriz proyectada y los datos originales\n",
    "# Proyección inversa (reconstrucción)\n",
    "X_projected_back = X_projected @ eigenvectors\n",
    "X_projected_back = scaler.inverse_transform(X_projected_back)\n",
    "error = np.linalg.norm(X_scaled - X_projected_back)"
   ]
  },
  {
   "cell_type": "code",
   "execution_count": null,
   "id": "70cf4b38-7a6d-45cc-b67a-657dcfc79bb3",
   "metadata": {},
   "outputs": [],
   "source": [
    "# Imprimir resultados\n",
    "print(\"Matriz de covarianza:\")\n",
    "print(cov_matrix)\n",
    "print(\"\\nEigenvalues:\")\n",
    "print(eigenvalues)\n",
    "print(\"\\nVarianza explicada por el eigenvalue:\")\n",
    "print(explained_variance_ratio)\n",
    "print(\"\\nEigenvector:\")\n",
    "print(eigenvectors)\n",
    "print(\"\\nMatriz proyectada:\")\n",
    "print(X_projected)\n",
    "print(\"\\nError entre la matriz proyectada y los datos originales:\")\n",
    "print(error)"
   ]
  },
  {
   "cell_type": "code",
   "execution_count": null,
   "id": "7f2f057d-6129-462b-bc81-28693372eb51",
   "metadata": {},
   "outputs": [],
   "source": [
    "# Pintar todas las ciudades en 1 dimensión\n",
    "plt.figure(figsize=(10, 2))\n",
    "plt.scatter(X_pca, np.zeros_like(X_pca), c='blue', label='Cities')\n",
    "for i, city in enumerate(df[\"City\"]):\n",
    "    plt.text(X_pca[i], 0, city, fontsize=9)\n",
    "plt.xlabel('Principal Component 1')\n",
    "plt.title('Cities in 1 Dimension')\n",
    "plt.yticks([])\n",
    "plt.grid(True)\n",
    "plt.show()"
   ]
  },
  {
   "cell_type": "code",
   "execution_count": null,
   "id": "992f49ec-fef3-4c4e-8ee5-9e559a9b47f9",
   "metadata": {},
   "outputs": [],
   "source": [
    "# Pintar todas las ciudades en 2 dimensiones\n",
    "plt.figure(figsize=(8, 6))\n",
    "plt.scatter(X_scaled[:, 0], X_scaled[:, 1], c='blue', label='Cities')\n",
    "for i, city in enumerate(df[\"City\"]):\n",
    "    plt.text(X_scaled[i, 0], X_scaled[i, 1], city, fontsize=9)\n",
    "plt.xlabel('GDP (USD Billion)')\n",
    "plt.ylabel('Population (Millions)')\n",
    "plt.title('Cities in 2 Dimensions')\n",
    "plt.grid(True)\n",
    "plt.show()"
   ]
  }
 ],
 "metadata": {
  "kernelspec": {
   "display_name": "Python 3 (ipykernel)",
   "language": "python",
   "name": "python3"
  },
  "language_info": {
   "codemirror_mode": {
    "name": "ipython",
    "version": 3
   },
   "file_extension": ".py",
   "mimetype": "text/x-python",
   "name": "python",
   "nbconvert_exporter": "python",
   "pygments_lexer": "ipython3",
   "version": "3.12.5"
  }
 },
 "nbformat": 4,
 "nbformat_minor": 5
}
