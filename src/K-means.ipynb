{
 "cells": [
  {
   "cell_type": "code",
   "execution_count": null,
   "id": "0e74199b-c116-49ea-9846-6b758ca8e050",
   "metadata": {},
   "outputs": [],
   "source": [
    "import numpy as np"
   ]
  },
  {
   "cell_type": "code",
   "execution_count": null,
   "id": "88aab179-8276-4d49-a827-f923a55beccc",
   "metadata": {},
   "outputs": [],
   "source": [
    "def inicializar_centroides(datos, k):\n",
    "   #Inicializa los centroides seleccionando aleatoriamente k puntos de los datos.\n",
    "    np.random.seed(0)  # Para reproducibilidad\n",
    "    indices = np.random.choice(len(datos), k, replace=False)\n",
    "    return datos[indices]"
   ]
  },
  {
   "cell_type": "code",
   "execution_count": null,
   "id": "53d2625b-b318-4c3c-88c0-75fb71d539e7",
   "metadata": {},
   "outputs": [],
   "source": [
    "def actualizar_centroides(datos, etiquetas, k):\n",
    "    #Actualiza los centroides calculando la media de los puntos asignados a cada cluster.\n",
    "    centroides = np.zeros((k, datos.shape[1]))\n",
    "    for i in range(k):\n",
    "        puntos_cluster = datos[etiquetas == i]\n",
    "        if len(puntos_cluster) > 0:\n",
    "            centroides[i] = np.mean(puntos_cluster, axis=0)\n",
    "    return centroides\n"
   ]
  },
  {
   "cell_type": "code",
   "execution_count": null,
   "id": "ed45b2ed-328f-404c-94e0-0d7932e0eefb",
   "metadata": {},
   "outputs": [],
   "source": [
    "def k_means(datos, k, max_iter=100):\n",
    "    #Algoritmo de K-means para clustering.\n",
    "    centroides = inicializar_centroides(datos, k)\n",
    "    for _ in range(max_iter):\n",
    "        distancias = np.linalg.norm(datos[:, np.newaxis] - centroides, axis=2)\n",
    "        etiquetas = np.argmin(distancias, axis=1)\n",
    "        nuevos_centroides = actualizar_centroides(datos, etiquetas, k)\n",
    "        if np.all(centroides == nuevos_centroides):\n",
    "            break\n",
    "        centroides = nuevos_centroides\n",
    "    return etiquetas, centroides"
   ]
  },
  {
   "cell_type": "code",
   "execution_count": null,
   "id": "9280f283-1b11-4286-9b38-74431ff2d3dd",
   "metadata": {},
   "outputs": [],
   "source": [
    "def clasificar_test(datos_test, centroides):\n",
    "    #Clasifica los puntos de test basándose en la distancia a los centroides.\n",
    "    distancias = np.linalg.norm(datos_test[:, np.newaxis] - centroides, axis=2)\n",
    "    etiquetas = np.argmin(distancias, axis=1)\n",
    "    return etiquetas"
   ]
  },
  {
   "cell_type": "code",
   "execution_count": null,
   "id": "844c8fd3-9133-4774-82cf-b6df7e4edfe3",
   "metadata": {},
   "outputs": [],
   "source": [
    "def encontrar_ciudad_mas_cercana(punto, datos_entrenamiento, ciudades):\n",
    "   #Encuentra la ciudad más cercana en el conjunto de entrenamiento.\n",
    "    distancias = np.linalg.norm(datos_entrenamiento - punto, axis=1)\n",
    "    indice_mas_cercano = np.argmin(distancias)\n",
    "    ciudad_mas_cercana = ciudades[indice_mas_cercano]\n",
    "    return ciudad_mas_cercana"
   ]
  },
  {
   "cell_type": "code",
   "execution_count": null,
   "id": "22cb4816-7507-4f85-869f-14355af10104",
   "metadata": {},
   "outputs": [],
   "source": [
    "# Datos de las 24 ciudades (entrenamiento)\n",
    "ciudades_entrenamiento = [\n",
    "    'Bogotá', 'Medellín', 'Cali', 'Barranquilla', 'Cartagena', 'Pereira',\n",
    "    'Santa Marta', 'Manizales', 'Villavicencio', 'Pasto', 'Montería',\n",
    "    'Valledupar', 'Neiva', 'Popayán', 'Armenia', 'Sincelejo', 'Tunja',\n",
    "    'Florencia', 'Riohacha', 'Quibdó', 'San Andrés', 'Yopal', 'Leticia',\n",
    "    'Mitú'\n",
    "]"
   ]
  },
  {
   "cell_type": "code",
   "execution_count": null,
   "id": "f016eb09-bf8f-4018-baa3-fbea37c6eac2",
   "metadata": {},
   "outputs": [],
   "source": [
    "datos_entrenamiento = np.array([\n",
    "    [7.18, 103.5, 7.18, 10.5, 32, 52, 48, 18],  # Bogotá\n",
    "    [2.57, 44.1, 2.57, 11.2, 31, 53, 47, 7.5],  # Medellín\n",
    "    [2.23, 22.4, 2.23, 13.8, 30, 52, 48, 4.2],  # Cali\n",
    "    [1.23, 16.8, 1.23, 12.4, 29, 51, 49, 3.1],  # Barranquilla\n",
    "    [1.03, 10.5, 1.03, 10.9, 30, 51, 49, 2.8],  # Cartagena\n",
    "    [0.48, 6.2, 0.48, 12, 32, 52, 48, 1.3],  # Pereira\n",
    "    [0.52, 4, 0.52, 11.6, 29, 51, 49, 0.9],  # Santa Marta\n",
    "    [0.43, 3.8, 0.43, 10.7, 32, 53, 47, 0.8],  # Manizales\n",
    "    [0.5, 3.5, 0.5, 13, 30, 51, 49, 0.8],  # Villavicencio\n",
    "    [0.45, 3.2, 0.45, 12.9, 31, 52, 48, 0.7],  # Pasto\n",
    "    [0.49, 3, 0.49, 13.5, 29, 51, 49, 0.7],  # Montería\n",
    "    [0.47, 2.8, 0.47, 14.8, 28, 51, 49, 0.6],  # Valledupar\n",
    "    [0.35, 2.5, 0.35, 14.1, 30, 52, 48, 0.6],  # Neiva\n",
    "    [0.33, 2.3, 0.33, 15.2, 31, 52, 48, 0.5],  # Popayán\n",
    "    [0.3, 2.1, 0.3, 16.5, 29, 51, 49, 0.5],  # Armenia\n",
    "    [0.28, 2, 0.28, 17.8, 28, 52, 48, 0.5],  # Sincelejo\n",
    "    [0.25, 1.8, 0.25, 11.6, 31, 52, 48, 0.4],  # Tunja\n",
    "    [0.2, 1.7, 0.2, 18, 29, 51, 49, 0.4],  # Florencia\n",
    "    [0.22, 1.5, 0.22, 16.5, 27, 51, 49, 0.3],  # Riohacha\n",
    "    [0.13, 1.3, 0.13, 14.2, 26, 52, 48, 0.3],  # Quibdó\n",
    "    [0.08, 1.2, 0.08, 19, 27, 50, 50, 0.2],  # San Andrés\n",
    "    [0.15, 1.1, 0.15, 12.7, 29, 51, 49, 0.2],  # Yopal\n",
    "    [0.05, 1, 0.05, 13.4, 26, 51, 49, 0.1],  # Leticia\n",
    "    [0.01, 0.7, 0.01, 20, 25, 51, 49, 0.05]  # Mitú\n",
    "])"
   ]
  },
  {
   "cell_type": "code",
   "execution_count": null,
   "id": "12d6f708-0c67-4aef-bc07-1b52acb87b41",
   "metadata": {},
   "outputs": [],
   "source": [
    "# Datos de prueba\n",
    "ciudades_test = [\n",
    "    'Cúcuta', 'Puerto Carreño', 'Bucaramanga', 'Arauca', 'Ibagué', 'Mocoa'\n",
    "]"
   ]
  },
  {
   "cell_type": "code",
   "execution_count": null,
   "id": "70f03299-b931-4a27-9004-95fcd539fe41",
   "metadata": {},
   "outputs": [],
   "source": [
    "datos_test = np.array([\n",
    "    [0.76, 5.1, 0.76, 16.3, 28, 51, 49, 1.2],  # Cúcuta\n",
    "    [0.01, 0.6, 0.01, 22, 24, 50, 50, 0.05],  # Puerto Carreño\n",
    "    [0.58, 7.3, 0.58, 9.2, 33, 52, 48, 1.5],  # Bucaramanga\n",
    "    [0.08, 0.9, 0.08, 12.2, 29, 51, 49, 0.1],  # Arauca\n",
    "    [0.53, 4.8, 0.53, 13.4, 31, 52, 48, 1.1],  # Ibagué\n",
    "    [0.04, 0.8, 0.04, 15, 28, 52, 48, 0.1]  # Mocoa\n",
    "])"
   ]
  },
  {
   "cell_type": "code",
   "execution_count": null,
   "id": "bfeeaaa2-4a1d-4d9e-9968-efe8b759fcfe",
   "metadata": {},
   "outputs": [],
   "source": [
    "# Aplicar K-means\n",
    "k = 6\n",
    "etiquetas, centroides = k_means(datos_entrenamiento, k)\n",
    "\n",
    "# Clasificar las ciudades de prueba\n",
    "etiquetas_test = clasificar_test(datos_test, centroides)\n",
    "\n",
    "# Determinar la ciudad más cercana en el conjunto de entrenamiento para cada ciudad de prueba\n",
    "for i, punto_test in enumerate(datos_test):\n",
    "    ciudad_mas_cercana = encontrar_ciudad_mas_cercana(punto_test, datos_entrenamiento, ciudades_entrenamiento)\n",
    "    print(f\"La ciudad de prueba '{ciudades_test[i]}' es más cercana a '{ciudad_mas_cercana}' del conjunto de entrenamiento\")"
   ]
  }
 ],
 "metadata": {
  "kernelspec": {
   "display_name": "Python 3 (ipykernel)",
   "language": "python",
   "name": "python3"
  },
  "language_info": {
   "codemirror_mode": {
    "name": "ipython",
    "version": 3
   },
   "file_extension": ".py",
   "mimetype": "text/x-python",
   "name": "python",
   "nbconvert_exporter": "python",
   "pygments_lexer": "ipython3",
   "version": "3.12.5"
  }
 },
 "nbformat": 4,
 "nbformat_minor": 5
}
