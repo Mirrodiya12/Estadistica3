{
 "cells": [
  {
   "cell_type": "code",
   "execution_count": 2,
   "id": "c31468b3-8b25-4521-9da1-b679a9ec121c",
   "metadata": {
    "scrolled": true
   },
   "outputs": [
    {
     "ename": "ModuleNotFoundError",
     "evalue": "No module named 'numpy'",
     "output_type": "error",
     "traceback": [
      "\u001b[1;31m---------------------------------------------------------------------------\u001b[0m",
      "\u001b[1;31mModuleNotFoundError\u001b[0m                       Traceback (most recent call last)",
      "Cell \u001b[1;32mIn[2], line 1\u001b[0m\n\u001b[1;32m----> 1\u001b[0m \u001b[38;5;28;01mimport\u001b[39;00m \u001b[38;5;21;01mnumpy\u001b[39;00m \u001b[38;5;28;01mas\u001b[39;00m \u001b[38;5;21;01mnp\u001b[39;00m\n\u001b[0;32m      2\u001b[0m \u001b[38;5;28;01mimport\u001b[39;00m \u001b[38;5;21;01mscipy\u001b[39;00m\u001b[38;5;21;01m.\u001b[39;00m\u001b[38;5;21;01mcluster\u001b[39;00m\u001b[38;5;21;01m.\u001b[39;00m\u001b[38;5;21;01mhierarchy\u001b[39;00m \u001b[38;5;28;01mas\u001b[39;00m \u001b[38;5;21;01msch\u001b[39;00m\n\u001b[0;32m      3\u001b[0m \u001b[38;5;28;01mimport\u001b[39;00m \u001b[38;5;21;01mmatplotlib\u001b[39;00m\u001b[38;5;21;01m.\u001b[39;00m\u001b[38;5;21;01mpyplot\u001b[39;00m \u001b[38;5;28;01mas\u001b[39;00m \u001b[38;5;21;01mplt\u001b[39;00m\n",
      "\u001b[1;31mModuleNotFoundError\u001b[0m: No module named 'numpy'"
     ]
    }
   ],
   "source": [
    "import numpy as np\n",
    "import scipy.cluster.hierarchy as sch\n",
    "import matplotlib.pyplot as plt"
   ]
  },
  {
   "cell_type": "code",
   "execution_count": null,
   "id": "101fe36e-1cb8-4e75-b769-c9905c36c733",
   "metadata": {},
   "outputs": [],
   "source": [
    "datos_entrenamiento = np.array([\n",
    "    [7.18, 103.5, 7.18, 10.5, 32, 52, 48, 18],  # Bogotá\n",
    "    [2.57, 44.1, 2.57, 11.2, 31, 53, 47, 7.5],  # Medellín\n",
    "    [2.23, 22.4, 2.23, 13.8, 30, 52, 48, 4.2],  # Cali\n",
    "    [1.23, 16.8, 1.23, 12.4, 29, 51, 49, 3.1],  # Barranquilla\n",
    "    [1.03, 10.5, 1.03, 10.9, 30, 51, 49, 2.8],  # Cartagena\n",
    "    [0.48, 6.2, 0.48, 12, 32, 52, 48, 1.3],  # Pereira\n",
    "    [0.52, 4, 0.52, 11.6, 29, 51, 49, 0.9],  # Santa Marta\n",
    "    [0.43, 3.8, 0.43, 10.7, 32, 53, 47, 0.8],  # Manizales\n",
    "    [0.5, 3.5, 0.5, 13, 30, 51, 49, 0.8],  # Villavicencio\n",
    "    [0.45, 3.2, 0.45, 12.9, 31, 52, 48, 0.7],  # Pasto\n",
    "    [0.49, 3, 0.49, 13.5, 29, 51, 49, 0.7],  # Montería\n",
    "    [0.47, 2.8, 0.47, 14.8, 28, 51, 49, 0.6],  # Valledupar\n",
    "    [0.35, 2.5, 0.35, 14.1, 30, 52, 48, 0.6],  # Neiva\n",
    "    [0.33, 2.3, 0.33, 15.2, 31, 52, 48, 0.5],  # Popayán\n",
    "    [0.3, 2.1, 0.3, 16.5, 29, 51, 49, 0.5],  # Armenia\n",
    "    [0.28, 2, 0.28, 17.8, 28, 52, 48, 0.5],  # Sincelejo\n",
    "    [0.25, 1.8, 0.25, 11.6, 31, 52, 48, 0.4],  # Tunja\n",
    "    [0.2, 1.7, 0.2, 18, 29, 51, 49, 0.4],  # Florencia\n",
    "    [0.22, 1.5, 0.22, 16.5, 27, 51, 49, 0.3],  # Riohacha\n",
    "    [0.13, 1.3, 0.13, 14.2, 26, 52, 48, 0.3],  # Quibdó\n",
    "    [0.08, 1.2, 0.08, 19, 27, 50, 50, 0.2],  # San Andrés\n",
    "    [0.15, 1.1, 0.15, 12.7, 29, 51, 49, 0.2],  # Yopal\n",
    "    [0.05, 1, 0.05, 13.4, 26, 51, 49, 0.1],  # Leticia\n",
    "    [0.01, 0.7, 0.01, 20, 25, 51, 49, 0.05]  # Mitú\n",
    "])"
   ]
  },
  {
   "cell_type": "code",
   "execution_count": null,
   "id": "2d030fd4-0a01-4130-aeee-80b57adb265c",
   "metadata": {},
   "outputs": [],
   "source": [
    "datos_test = np.array([\n",
    "    [0.76, 5.1, 0.76, 16.3, 28, 51, 49, 1.2],  # Cúcuta\n",
    "    [0.01, 0.6, 0.01, 22, 24, 50, 50, 0.05],  # Puerto Carreño\n",
    "    [0.58, 7.3, 0.58, 9.2, 33, 52, 48, 1.5],  # Bucaramanga\n",
    "    [0.08, 0.9, 0.08, 12.2, 29, 51, 49, 0.1],  # Arauca\n",
    "    [0.53, 4.8, 0.53, 13.4, 31, 52, 48, 1.1],  # Ibagué\n",
    "    [0.04, 0.8, 0.04, 15, 28, 52, 48, 0.1]  # Mocoa\n",
    "])"
   ]
  },
  {
   "cell_type": "code",
   "execution_count": 1,
   "id": "0e3b49cb-4759-4e8c-92fd-e1f16c850841",
   "metadata": {
    "scrolled": true
   },
   "outputs": [
    {
     "ename": "NameError",
     "evalue": "name 'np' is not defined",
     "output_type": "error",
     "traceback": [
      "\u001b[1;31m---------------------------------------------------------------------------\u001b[0m",
      "\u001b[1;31mNameError\u001b[0m                                 Traceback (most recent call last)",
      "Cell \u001b[1;32mIn[1], line 2\u001b[0m\n\u001b[0;32m      1\u001b[0m \u001b[38;5;66;03m# Combina los datos de entrenamiento y prueba\u001b[39;00m\n\u001b[1;32m----> 2\u001b[0m datos_combinados \u001b[38;5;241m=\u001b[39m \u001b[43mnp\u001b[49m\u001b[38;5;241m.\u001b[39mvstack([datos_entrenamiento, datos_test])\n\u001b[0;32m      4\u001b[0m \u001b[38;5;66;03m# Calcula la matriz de distancias usando la distancia euclidiana\u001b[39;00m\n\u001b[0;32m      5\u001b[0m distancias \u001b[38;5;241m=\u001b[39m sch\u001b[38;5;241m.\u001b[39mdistance\u001b[38;5;241m.\u001b[39mpdist(datos_combinados, metric\u001b[38;5;241m=\u001b[39m\u001b[38;5;124m'\u001b[39m\u001b[38;5;124meuclidean\u001b[39m\u001b[38;5;124m'\u001b[39m)\n",
      "\u001b[1;31mNameError\u001b[0m: name 'np' is not defined"
     ]
    }
   ],
   "source": [
    "# Combina los datos de entrenamiento y prueba\n",
    "datos_combinados = np.vstack([datos_entrenamiento, datos_test])\n",
    "\n",
    "# Calcula la matriz de distancias usando la distancia euclidiana\n",
    "distancias = sch.distance.pdist(datos_combinados, metric='euclidean')\n",
    "\n",
    "# Crea el clustering jerárquico usando el enlace completo\n",
    "enlace = sch.linkage(distancias, method='complete')\n",
    "\n",
    "# Dibuja el dendograma\n",
    "plt.figure(figsize=(12, 8))\n",
    "labels_combinados = [\n",
    "    'Bogotá', 'Medellín', 'Cali', 'Barranquilla', 'Cartagena', 'Pereira',\n",
    "    'Santa Marta', 'Manizales', 'Villavicencio', 'Pasto', 'Montería',\n",
    "    'Valledupar', 'Neiva', 'Popayán', 'Armenia', 'Sincelejo', 'Tunja',\n",
    "    'Florencia', 'Riohacha', 'Quibdó', 'San Andrés', 'Yopal', 'Leticia',\n",
    "    'Mitú', 'Cúcuta', 'Puerto Carreño', 'Bucaramanga', 'Arauca',\n",
    "    'Ibagué', 'Mocoa'\n",
    "]\n",
    "sch.dendrogram(enlace, labels=labels_combinados)\n",
    "plt.title('Dendograma usando el método de enlace completo')\n",
    "plt.xlabel('Índice de punto de datos')\n",
    "plt.ylabel('Distancia')\n",
    "plt.xticks(rotation=90)\n",
    "plt.show()"
   ]
  },
  {
   "cell_type": "code",
   "execution_count": null,
   "id": "6cd357af-b92b-4a0f-8c61-9638a7b19a7e",
   "metadata": {},
   "outputs": [],
   "source": []
  }
 ],
 "metadata": {
  "kernelspec": {
   "display_name": "Python 3 (ipykernel)",
   "language": "python",
   "name": "python3"
  },
  "language_info": {
   "codemirror_mode": {
    "name": "ipython",
    "version": 3
   },
   "file_extension": ".py",
   "mimetype": "text/x-python",
   "name": "python",
   "nbconvert_exporter": "python",
   "pygments_lexer": "ipython3",
   "version": "3.12.5"
  }
 },
 "nbformat": 4,
 "nbformat_minor": 5
}
